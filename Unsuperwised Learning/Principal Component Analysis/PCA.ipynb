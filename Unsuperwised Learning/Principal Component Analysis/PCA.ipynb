{
 "cells": [
  {
   "cell_type": "markdown",
   "id": "982cb4ce",
   "metadata": {},
   "source": [
    "# Principal Component Analysis"
   ]
  },
  {
   "cell_type": "markdown",
   "id": "b4e231c8",
   "metadata": {},
   "source": [
    "* Introduction\n",
    "* Application on dataset\n",
    "    * Prepare Data\n",
    "    * Linear Regression with PCA\n",
    "* Error Analysis\n"
   ]
  },
  {
   "cell_type": "markdown",
   "id": "4be0676f",
   "metadata": {},
   "source": [
    "## Introduction"
   ]
  },
  {
   "attachments": {},
   "cell_type": "markdown",
   "id": "25d07b4c",
   "metadata": {},
   "source": [
    "PCA is a statistical method which can reduce the dimensionality of datasets while preserving the majority of the original data. By converting it into a new coordinate system where the data points are characterized by a group of main components, PCA aids in the discovery of the underlying patterns. These main components are uncorrelated linear combinations of the original variables that are orthogonal to one another. Finding the principle components that account for the most variance in the data set is the aim of principal component analysis (PCA). This is accomplished by computing the eigenvalues and eigenvectors of the data set's covariance matrix. The main components are represented by the eigenvectors, and the variance explained by each principal component is represented by the eigenvalues. "
   ]
  },
  {
   "cell_type": "markdown",
   "id": "65875627",
   "metadata": {},
   "source": [
    "Summarize the algorithm steps of PCA:\n",
    "\n",
    "There are m pieces of n-dimensional data.\n",
    "\n",
    "1. Form the original data into an n-row m-column matrix X by column;\n",
    "2. Zero-meanize each row of X, that is, subtract the mean of this row;\n",
    "3. Find the covariance matrix;\n",
    "4. Find the eigenvalues and corresponding eigenvectors of the covariance matrix;\n",
    "5. Arrange the eigenvectors into a matrix from top to bottom according to the size of the corresponding eigenvalues, and take the first k rows to form a matrix P; That is, the data after dimensionality reduction to k dimensions."
   ]
  },
  {
   "cell_type": "markdown",
   "id": "cb75a4b8",
   "metadata": {},
   "source": [
    "### Properties:"
   ]
  },
  {
   "cell_type": "markdown",
   "id": "12ec5fcf",
   "metadata": {},
   "source": [
    "\n",
    "Alleviating the disaster of dimensionality: PCA algorithm can increase the sampling density of samples by discarding part of the information (because the dimensionality is reduced), which is an important means to alleviate the disaster of dimensionality;\n",
    "\n",
    "Noise reduction: When the data is affected by noise, the eigenvector corresponding to the smallest eigenvalue is often related to noise, and discarding them can achieve the effect of noise reduction to a certain extent;\n",
    "\n",
    "Overfitting: PCA retains the main information, but this main information is only for the training set, and this main information may not be important information. It is possible to discard some seemingly useless information, but these seemingly useless information happens to be important information, but there is no great performance on the training set, so PCA may also exacerbate overfitting;\n",
    "\n",
    "Feature independence: PCA not only compresses the data to low dimensions, but also makes the features of the reduced data independent of each other;"
   ]
  },
  {
   "cell_type": "markdown",
   "id": "98574741",
   "metadata": {},
   "source": [
    "## Application On Dataset"
   ]
  },
  {
   "cell_type": "code",
   "execution_count": 9,
   "id": "77e4a180",
   "metadata": {},
   "outputs": [],
   "source": [
    "# Regular EDA and plotting libraries\n",
    "import numpy as np # np is short for numpy\n",
    "import pandas as pd # pandas is so commonly used, it's shortened to pd\n",
    "import matplotlib.pyplot as plt\n",
    "import seaborn as sns # seaborn gets shortened to sns\n",
    "\n",
    "# We want our plots to appear in the notebook\n",
    "%matplotlib inline \n",
    "\n",
    "## Models\n",
    "from sklearn.linear_model import LogisticRegression\n",
    "from sklearn.neighbors import KNeighborsClassifier\n",
    "from sklearn.ensemble import RandomForestClassifier\n",
    "\n",
    "## Model evaluators\n",
    "from sklearn.model_selection import train_test_split, cross_val_score\n",
    "from sklearn.model_selection import RandomizedSearchCV, GridSearchCV\n",
    "from sklearn.metrics import confusion_matrix, classification_report\n",
    "from sklearn.metrics import precision_score, recall_score, f1_score\n",
    "from sklearn.metrics import plot_roc_curve\n",
    "\n",
    "import pandas as pd\n",
    "from sklearn.decomposition import PCA\n",
    "from sklearn.preprocessing import StandardScaler"
   ]
  },
  {
   "cell_type": "markdown",
   "id": "7477244a",
   "metadata": {},
   "source": [
    "### Prepare Data"
   ]
  },
  {
   "cell_type": "code",
   "execution_count": 25,
   "id": "ecac95d3",
   "metadata": {},
   "outputs": [
    {
     "data": {
      "text/plain": [
       "(167, 10)"
      ]
     },
     "execution_count": 25,
     "metadata": {},
     "output_type": "execute_result"
    }
   ],
   "source": [
    "df = pd.read_csv(\"/Users/liusiling/Desktop/semester2/577_github/Country-data.csv\") \n",
    "df.shape"
   ]
  },
  {
   "cell_type": "code",
   "execution_count": 26,
   "id": "21ce736f",
   "metadata": {},
   "outputs": [
    {
     "data": {
      "text/html": [
       "<div>\n",
       "<style scoped>\n",
       "    .dataframe tbody tr th:only-of-type {\n",
       "        vertical-align: middle;\n",
       "    }\n",
       "\n",
       "    .dataframe tbody tr th {\n",
       "        vertical-align: top;\n",
       "    }\n",
       "\n",
       "    .dataframe thead th {\n",
       "        text-align: right;\n",
       "    }\n",
       "</style>\n",
       "<table border=\"1\" class=\"dataframe\">\n",
       "  <thead>\n",
       "    <tr style=\"text-align: right;\">\n",
       "      <th></th>\n",
       "      <th>country</th>\n",
       "      <th>child_mort</th>\n",
       "      <th>exports</th>\n",
       "      <th>health</th>\n",
       "      <th>imports</th>\n",
       "      <th>income</th>\n",
       "      <th>inflation</th>\n",
       "      <th>life_expec</th>\n",
       "      <th>total_fer</th>\n",
       "      <th>gdpp</th>\n",
       "    </tr>\n",
       "  </thead>\n",
       "  <tbody>\n",
       "    <tr>\n",
       "      <th>0</th>\n",
       "      <td>Afghanistan</td>\n",
       "      <td>90.2</td>\n",
       "      <td>10.0</td>\n",
       "      <td>7.58</td>\n",
       "      <td>44.9</td>\n",
       "      <td>1610</td>\n",
       "      <td>9.44</td>\n",
       "      <td>56.2</td>\n",
       "      <td>5.82</td>\n",
       "      <td>553</td>\n",
       "    </tr>\n",
       "    <tr>\n",
       "      <th>1</th>\n",
       "      <td>Albania</td>\n",
       "      <td>16.6</td>\n",
       "      <td>28.0</td>\n",
       "      <td>6.55</td>\n",
       "      <td>48.6</td>\n",
       "      <td>9930</td>\n",
       "      <td>4.49</td>\n",
       "      <td>76.3</td>\n",
       "      <td>1.65</td>\n",
       "      <td>4090</td>\n",
       "    </tr>\n",
       "    <tr>\n",
       "      <th>2</th>\n",
       "      <td>Algeria</td>\n",
       "      <td>27.3</td>\n",
       "      <td>38.4</td>\n",
       "      <td>4.17</td>\n",
       "      <td>31.4</td>\n",
       "      <td>12900</td>\n",
       "      <td>16.10</td>\n",
       "      <td>76.5</td>\n",
       "      <td>2.89</td>\n",
       "      <td>4460</td>\n",
       "    </tr>\n",
       "    <tr>\n",
       "      <th>3</th>\n",
       "      <td>Angola</td>\n",
       "      <td>119.0</td>\n",
       "      <td>62.3</td>\n",
       "      <td>2.85</td>\n",
       "      <td>42.9</td>\n",
       "      <td>5900</td>\n",
       "      <td>22.40</td>\n",
       "      <td>60.1</td>\n",
       "      <td>6.16</td>\n",
       "      <td>3530</td>\n",
       "    </tr>\n",
       "    <tr>\n",
       "      <th>4</th>\n",
       "      <td>Antigua and Barbuda</td>\n",
       "      <td>10.3</td>\n",
       "      <td>45.5</td>\n",
       "      <td>6.03</td>\n",
       "      <td>58.9</td>\n",
       "      <td>19100</td>\n",
       "      <td>1.44</td>\n",
       "      <td>76.8</td>\n",
       "      <td>2.13</td>\n",
       "      <td>12200</td>\n",
       "    </tr>\n",
       "  </tbody>\n",
       "</table>\n",
       "</div>"
      ],
      "text/plain": [
       "               country  child_mort  exports  health  imports  income  \\\n",
       "0          Afghanistan        90.2     10.0    7.58     44.9    1610   \n",
       "1              Albania        16.6     28.0    6.55     48.6    9930   \n",
       "2              Algeria        27.3     38.4    4.17     31.4   12900   \n",
       "3               Angola       119.0     62.3    2.85     42.9    5900   \n",
       "4  Antigua and Barbuda        10.3     45.5    6.03     58.9   19100   \n",
       "\n",
       "   inflation  life_expec  total_fer   gdpp  \n",
       "0       9.44        56.2       5.82    553  \n",
       "1       4.49        76.3       1.65   4090  \n",
       "2      16.10        76.5       2.89   4460  \n",
       "3      22.40        60.1       6.16   3530  \n",
       "4       1.44        76.8       2.13  12200  "
      ]
     },
     "execution_count": 26,
     "metadata": {},
     "output_type": "execute_result"
    }
   ],
   "source": [
    "df.head()"
   ]
  },
  {
   "cell_type": "code",
   "execution_count": 27,
   "id": "1f388479",
   "metadata": {},
   "outputs": [],
   "source": [
    "df = df.drop(['country'], axis=1)"
   ]
  },
  {
   "cell_type": "code",
   "execution_count": 28,
   "id": "6856d970",
   "metadata": {},
   "outputs": [
    {
     "data": {
      "text/html": [
       "<div>\n",
       "<style scoped>\n",
       "    .dataframe tbody tr th:only-of-type {\n",
       "        vertical-align: middle;\n",
       "    }\n",
       "\n",
       "    .dataframe tbody tr th {\n",
       "        vertical-align: top;\n",
       "    }\n",
       "\n",
       "    .dataframe thead th {\n",
       "        text-align: right;\n",
       "    }\n",
       "</style>\n",
       "<table border=\"1\" class=\"dataframe\">\n",
       "  <thead>\n",
       "    <tr style=\"text-align: right;\">\n",
       "      <th></th>\n",
       "      <th>child_mort</th>\n",
       "      <th>exports</th>\n",
       "      <th>health</th>\n",
       "      <th>imports</th>\n",
       "      <th>income</th>\n",
       "      <th>inflation</th>\n",
       "      <th>life_expec</th>\n",
       "      <th>total_fer</th>\n",
       "      <th>gdpp</th>\n",
       "    </tr>\n",
       "  </thead>\n",
       "  <tbody>\n",
       "    <tr>\n",
       "      <th>0</th>\n",
       "      <td>90.2</td>\n",
       "      <td>10.0</td>\n",
       "      <td>7.58</td>\n",
       "      <td>44.9</td>\n",
       "      <td>1610</td>\n",
       "      <td>9.44</td>\n",
       "      <td>56.2</td>\n",
       "      <td>5.82</td>\n",
       "      <td>553</td>\n",
       "    </tr>\n",
       "    <tr>\n",
       "      <th>1</th>\n",
       "      <td>16.6</td>\n",
       "      <td>28.0</td>\n",
       "      <td>6.55</td>\n",
       "      <td>48.6</td>\n",
       "      <td>9930</td>\n",
       "      <td>4.49</td>\n",
       "      <td>76.3</td>\n",
       "      <td>1.65</td>\n",
       "      <td>4090</td>\n",
       "    </tr>\n",
       "    <tr>\n",
       "      <th>2</th>\n",
       "      <td>27.3</td>\n",
       "      <td>38.4</td>\n",
       "      <td>4.17</td>\n",
       "      <td>31.4</td>\n",
       "      <td>12900</td>\n",
       "      <td>16.10</td>\n",
       "      <td>76.5</td>\n",
       "      <td>2.89</td>\n",
       "      <td>4460</td>\n",
       "    </tr>\n",
       "    <tr>\n",
       "      <th>3</th>\n",
       "      <td>119.0</td>\n",
       "      <td>62.3</td>\n",
       "      <td>2.85</td>\n",
       "      <td>42.9</td>\n",
       "      <td>5900</td>\n",
       "      <td>22.40</td>\n",
       "      <td>60.1</td>\n",
       "      <td>6.16</td>\n",
       "      <td>3530</td>\n",
       "    </tr>\n",
       "    <tr>\n",
       "      <th>4</th>\n",
       "      <td>10.3</td>\n",
       "      <td>45.5</td>\n",
       "      <td>6.03</td>\n",
       "      <td>58.9</td>\n",
       "      <td>19100</td>\n",
       "      <td>1.44</td>\n",
       "      <td>76.8</td>\n",
       "      <td>2.13</td>\n",
       "      <td>12200</td>\n",
       "    </tr>\n",
       "  </tbody>\n",
       "</table>\n",
       "</div>"
      ],
      "text/plain": [
       "   child_mort  exports  health  imports  income  inflation  life_expec  \\\n",
       "0        90.2     10.0    7.58     44.9    1610       9.44        56.2   \n",
       "1        16.6     28.0    6.55     48.6    9930       4.49        76.3   \n",
       "2        27.3     38.4    4.17     31.4   12900      16.10        76.5   \n",
       "3       119.0     62.3    2.85     42.9    5900      22.40        60.1   \n",
       "4        10.3     45.5    6.03     58.9   19100       1.44        76.8   \n",
       "\n",
       "   total_fer   gdpp  \n",
       "0       5.82    553  \n",
       "1       1.65   4090  \n",
       "2       2.89   4460  \n",
       "3       6.16   3530  \n",
       "4       2.13  12200  "
      ]
     },
     "execution_count": 28,
     "metadata": {},
     "output_type": "execute_result"
    }
   ],
   "source": [
    "df.head()"
   ]
  },
  {
   "cell_type": "code",
   "execution_count": 30,
   "id": "e6fcd310",
   "metadata": {},
   "outputs": [],
   "source": [
    "for feature in df.columns[:-1]:\n",
    "    df[[feature]] = scaler.fit_transform(df[[feature]])\n",
    "\n",
    "X = df[df.columns[:-1]]\n",
    "y = df[df.columns[-1]]\n",
    "\n",
    "pca = PCA(n_components = 2)\n",
    "X = pca.fit_transform(X)\n",
    "\n",
    "X_train, X_test, y_train, y_test = train_test_split(X, y, test_size = 0.2)"
   ]
  },
  {
   "cell_type": "code",
   "execution_count": 33,
   "id": "f8f19fa8",
   "metadata": {},
   "outputs": [
    {
     "data": {
      "text/plain": [
       "array([[ 0.72407239, -0.65618364],\n",
       "       [-0.09680905, -0.47784487],\n",
       "       [-3.00379943,  1.78789164],\n",
       "       [ 1.18044444,  0.08385569]])"
      ]
     },
     "execution_count": 33,
     "metadata": {},
     "output_type": "execute_result"
    }
   ],
   "source": [
    "X[1:5]"
   ]
  },
  {
   "cell_type": "markdown",
   "id": "16ed2339",
   "metadata": {},
   "source": [
    "## Linear Regression with PCA"
   ]
  },
  {
   "cell_type": "code",
   "execution_count": 36,
   "id": "0be9fa28",
   "metadata": {},
   "outputs": [],
   "source": [
    "from statsmodels.formula.api import ols\n",
    "import statsmodels.api as sm\n",
    "import scipy.stats as stats\n",
    "from sklearn.model_selection import train_test_split\n",
    "from sklearn.feature_selection import RFE\n",
    "from sklearn.linear_model import LinearRegression\n",
    "from sklearn.model_selection import KFold\n",
    "from sklearn.model_selection import cross_val_score\n",
    "from sklearn.preprocessing import PolynomialFeatures\n",
    "from sklearn.metrics import r2_score, mean_squared_error"
   ]
  },
  {
   "cell_type": "code",
   "execution_count": 37,
   "id": "bc3609c0",
   "metadata": {},
   "outputs": [
    {
     "data": {
      "text/plain": [
       "0.4954407870253408"
      ]
     },
     "execution_count": 37,
     "metadata": {},
     "output_type": "execute_result"
    }
   ],
   "source": [
    "# Create linear regression model\n",
    "lm = LinearRegression()\n",
    "\n",
    "# Fit data\n",
    "lm.fit(X_train, y_train)\n",
    "\n",
    "\n",
    "scores = cross_val_score(\n",
    "            lm, \n",
    "            X_train,\n",
    "            y_train,\n",
    "            cv=20,\n",
    "            scoring=\"neg_mean_squared_error\"\n",
    ")\n",
    "lm_score =lm.score(X_train, y_train)\n",
    "lm_score"
   ]
  },
  {
   "cell_type": "markdown",
   "id": "3630ead2",
   "metadata": {},
   "source": [
    "This score is not good, we can try more number of principle components to find the optimal one."
   ]
  },
  {
   "cell_type": "markdown",
   "id": "63247e84",
   "metadata": {},
   "source": [
    "## Try Different Number of Principle Components"
   ]
  },
  {
   "cell_type": "code",
   "execution_count": 50,
   "id": "b3367a6a",
   "metadata": {},
   "outputs": [
    {
     "name": "stdout",
     "output_type": "stream",
     "text": [
      "PC: 1 MSE: 322013621.91 Score: 0.5033826589918271\n",
      "PC: 2 MSE: 134170081.5 Score: 0.48805488718042533\n",
      "PC: 3 MSE: 151327302.14 Score: 0.4731275230349049\n",
      "PC: 4 MSE: 317710076.13 Score: 0.5898130966465518\n",
      "PC: 5 MSE: 27665467.15 Score: 0.8649767204771447\n",
      "PC: 6 MSE: 35773591.35 Score: 0.8620678637980287\n",
      "PC: 7 MSE: 70242335.98 Score: 0.8679061092649265\n",
      "PC: 8 MSE: 72460842.56 Score: 0.8635681018239866\n"
     ]
    }
   ],
   "source": [
    "from sklearn.metrics import mean_squared_error\n",
    "\n",
    "import matplotlib.pyplot as plt\n",
    "\n",
    "lr = LinearRegression()\n",
    "\n",
    "for i in range(1, df.shape[1]):\n",
    "    X = df[df.columns[:-1]]\n",
    "    y = df[df.columns[-1]]\n",
    "    pca = PCA(n_components = i)\n",
    "    X = pca.fit_transform(X)\n",
    "    X_train, X_test, y_train, y_test = train_test_split(X, y, test_size = 0.2)\n",
    "\n",
    "    lr.fit(X_train, y_train)\n",
    "    lr_score =lr.score(X_train, y_train)\n",
    "    y_hat = lr.predict(X_test)\n",
    "    print(\"PC:\", i,\"MSE:\", np.round(mean_squared_error(y_test, y_hat),2),\"Score:\",lr_score)"
   ]
  },
  {
   "cell_type": "markdown",
   "id": "6ea81330",
   "metadata": {},
   "source": [
    "we can see that the score of the model has been around 0.86 after PC=5, so the most appropriate number of principle components is 5, in this case, we can retain a lot of variation of data. Let's try the following linear regression model."
   ]
  },
  {
   "cell_type": "code",
   "execution_count": 60,
   "id": "96eeb669",
   "metadata": {},
   "outputs": [],
   "source": [
    "for feature in df.columns[:-1]:\n",
    "    df[[feature]] = scaler.fit_transform(df[[feature]])\n",
    "\n",
    "X = df[df.columns[:-1]]\n",
    "y = df[df.columns[-1]]\n",
    "\n",
    "# reduce the PCA to visualize the components\n",
    "pca = PCA(n_components = 5)\n",
    "X = pca.fit_transform(X)\n",
    "\n",
    "X_train, X_test, y_train, y_test = train_test_split(X, y, test_size = 0.2)"
   ]
  },
  {
   "cell_type": "code",
   "execution_count": 61,
   "id": "cd81675c",
   "metadata": {},
   "outputs": [],
   "source": [
    "class lr():\n",
    "    def __init__(self):\n",
    "        self.X = None\n",
    "        self.y = None\n",
    "        self.betahat=None\n",
    "        self.yhat = None\n",
    "        self.n = None\n",
    "        self.p = None\n",
    "        self.bias = None\n",
    "        \n",
    "    def fit(self,X,y,bias):\n",
    "        \n",
    "        if bias:\n",
    "            X = np.append(np.ones((X.shape[0], 1)), X, axis=1)\n",
    "            \n",
    "        self.X = X\n",
    "        self.y = y\n",
    "        self.n = X.shape[0]\n",
    "        self.p = X.shape[1]\n",
    "        betahat = np.linalg.inv(X.T @ X) @ X.T @ y\n",
    "        self.betahat = betahat\n",
    "        self.yhat = X @ betahat\n",
    "        \n",
    "    \n",
    "    def predict(self, x):\n",
    "        if self.bias:\n",
    "            ones_column = np.ones((x.shape[0], 1))\n",
    "            x = np.append(ones_column, x, axis=1)\n",
    "        return x @ self.beta_hat\n",
    "    \n",
    "    def SSE(self):\n",
    "        return (self.y-self.yhat).T@(self.y-self.yhat)\n",
    "    \n",
    "    def MSE(self):\n",
    "        return self.SSE()/(self.n-self.p)\n",
    "    \n",
    "    def SSR(self):\n",
    "        return (self.yhat - np.mean(self.y)).T @ (self.yhat - np.mean(self.y))\n",
    "\n",
    "    def SST(self):\n",
    "        return (self.y-np.mean(self.yhat)).T@(self.y-np.mean(self.yhat))\n",
    "    \n",
    "    def MSR(self):\n",
    "        return self.SSR()/(self.p-1)\n",
    "    \n",
    "    def R_2(self):\n",
    "        return 1 - self.SSE()/self.SST()"
   ]
  },
  {
   "cell_type": "code",
   "execution_count": 62,
   "id": "ab2077c6",
   "metadata": {},
   "outputs": [],
   "source": [
    "model = lr()\n",
    "model.fit(X_train,y_train,bias=True)"
   ]
  },
  {
   "cell_type": "code",
   "execution_count": 63,
   "id": "10e31710",
   "metadata": {},
   "outputs": [
    {
     "data": {
      "text/plain": [
       "array([12409.16543713,  6549.89276473,   -95.81476828,   828.10207206,\n",
       "        7509.14760335, 11798.34990026])"
      ]
     },
     "execution_count": 63,
     "metadata": {},
     "output_type": "execute_result"
    }
   ],
   "source": [
    "model.betahat"
   ]
  },
  {
   "cell_type": "markdown",
   "id": "c0f37511",
   "metadata": {},
   "source": [
    "## Error Analysis"
   ]
  },
  {
   "cell_type": "code",
   "execution_count": 64,
   "id": "3de996db",
   "metadata": {},
   "outputs": [
    {
     "name": "stdout",
     "output_type": "stream",
     "text": [
      "SSE:5158220748.62166\n",
      "MSE:40615911.40646976\n",
      "SSR:36802427916.626465\n",
      "MSR:7360485583.325293\n",
      "R^2:0.8770700427018492\n"
     ]
    }
   ],
   "source": [
    "print(f\"SSE:{model.SSE()}\")\n",
    "print(f\"MSE:{model.MSE()}\")\n",
    "print(f\"SSR:{model.SSR()}\")\n",
    "print(f\"MSR:{model.MSR()}\")\n",
    "print(f\"R^2:{model.R_2()}\")"
   ]
  },
  {
   "cell_type": "markdown",
   "id": "a1a8a21a",
   "metadata": {},
   "source": [
    "$R^2$ is close to 1, so the model performance is not bad. Our PCA actually reduced the data dimension. "
   ]
  }
 ],
 "metadata": {
  "kernelspec": {
   "display_name": "Python 3 (ipykernel)",
   "language": "python",
   "name": "python3"
  },
  "language_info": {
   "codemirror_mode": {
    "name": "ipython",
    "version": 3
   },
   "file_extension": ".py",
   "mimetype": "text/x-python",
   "name": "python",
   "nbconvert_exporter": "python",
   "pygments_lexer": "ipython3",
   "version": "3.9.13"
  }
 },
 "nbformat": 4,
 "nbformat_minor": 5
}

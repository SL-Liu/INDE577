{
 "cells": [
  {
   "cell_type": "markdown",
   "id": "9b11ea92",
   "metadata": {},
   "source": [
    "# Neural Network( MLP)"
   ]
  },
  {
   "cell_type": "markdown",
   "id": "770e1759",
   "metadata": {},
   "source": [
    "## Contents"
   ]
  },
  {
   "cell_type": "markdown",
   "id": "3167dda7",
   "metadata": {},
   "source": [
    "* Introduction\n",
    "* Application on dataset\n"
   ]
  },
  {
   "cell_type": "markdown",
   "id": "33061204",
   "metadata": {},
   "source": [
    "## Introduction"
   ]
  },
  {
   "cell_type": "markdown",
   "id": "8a80082b",
   "metadata": {},
   "source": [
    "The Multi-Layer Perceptron (MLP) is a type of neural network that is widely used in machine learning. It is a feedforward neural network, meaning that the information flows through the network in only one direction, from the input layer to the output layer.As a feedforward neural network, it only allows for one direction of information flow—from the input layer to the output layer.\n",
    "\n",
    "Each layer of neurons in the MLP is completely linked to the layer below it. The model's ultimate output is produced by the output layer, which also receives the model's initial input data. The complicated patterns and relationships in the data are learned by the hidden layers, which also carry out the intermediate computations.\n",
    "\n",
    "Each neuron in the MLP gets input from the layer above, calculates a weighted sum, adds a bias term, and then passes the finished calculation via an activation function to produce an output. During training, the neurons' weights and biases are modified using an optimization approach such stochastic gradient descent.\n",
    "\n",
    "The activation function provides non-linearity into the model, enabling it to learn intricate non-linear correlations in the data. As a result, it is a crucial component of the MLP. The sigmoid function, ReLU function, and hyperbolic tangent function are a few examples of regularly used activation functions.\n",
    "\n",
    "The MLP is an effective machine learning model that may be applied to a variety of applications, such as speech recognition, image classification, and natural language processing. However, training an MLP can be challenging because it needs a lot of labeled data and careful consideration when choosing hyperparameters like the number of hidden layers and neurons in each layer.\n",
    "\n",
    "<img src=\"./Desktop/semester2/577_github/neuron.png\" width=\"200\" height=\"200\">"
   ]
  },
  {
   "cell_type": "markdown",
   "id": "18803b5e",
   "metadata": {},
   "source": [
    "## Networks of Neurons"
   ]
  },
  {
   "attachments": {
    "nn.png": {
     "image/png": "[encoded data removed]"
    }
   },
   "cell_type": "markdown",
   "id": "979afe53",
   "metadata": {},
   "source": [
    "Neurons are arranged into networks of neurons. A row of neurons is called a layer, and one network can have multiple layers. The architecture of the neurons in the network is often called the network topology.\n",
    "\n",
    "\n",
    "![nn.png](attachment:nn.png)\n",
    "\n",
    "Based on the biological neuron model, we can get the basic structure of the multi-layer perceptron MLP. The most typical MLP includes three layers: input layer, hidden layer and output layer. The different layers of the MLP neural network are fully connected (fully connected This means that any neuron in the previous layer is connected to all neurons in the next layer).\n",
    "\n",
    "It can be seen that neural networks have three main basic elements: weights, biases and activation functions\n",
    "\n",
    "Weights: The strength of the connection between neurons is represented by the weights, and the size of the weights indicates the magnitude of the probability.\n",
    "\n",
    "Bias: The bias is set to correctly classify the samples and is an important parameter in the model, i.e., to ensure that the output values calculated from the inputs cannot be activated randomly.\n",
    "\n",
    "Activation function: It acts as a nonlinear mapping, which can limit the output amplitude of the neuron to a certain range, usually between (-1~1) or  (0~1). The most commonly used activation function is the Sigmoid function, which can map (-∞, +∞) numbers to the range of (0~1).\n",
    "\n",
    "\n",
    "The activation functions are tanh and ReLU. tanh is a deformation of Sigmoid function, the mean value of tanh is 0, which has better effect than Sigmoid in practical application; ReLU is a popular activation function recently, when the input signal is less than 0, the output is 0; when the input signal is greater than 0, the output is equal to the input; which activation function to use depends on the specific situation."
   ]
  },
  {
   "cell_type": "markdown",
   "id": "82a1413d",
   "metadata": {},
   "source": [
    "### Input or Visible Layers"
   ]
  },
  {
   "cell_type": "markdown",
   "id": "cce1ba46",
   "metadata": {},
   "source": [
    "The bottom layer that takes input from your dataset is called the visible layer because it is the exposed part of the network. Often a neural network is drawn with a visible layer with one neuron per input value or column in your dataset. These are not neurons as described above but simply pass the input value through to the next layer."
   ]
  },
  {
   "cell_type": "markdown",
   "id": "eb85fb39",
   "metadata": {},
   "source": [
    "### Hidden Layers"
   ]
  },
  {
   "cell_type": "markdown",
   "id": "3727f728",
   "metadata": {},
   "source": [
    "Layers after the input layer are called hidden layers because they are not directly exposed to the input. The simplest network structure is to have a single neuron in the hidden layer that directly outputs the value.\n",
    "\n",
    "Given increases in computing power and efficient libraries, very deep neural networks can be constructed. Deep learning can refer to having many hidden layers in your neural network. They are deep because they would have been unimaginably slow to train historically but may take seconds or minutes to train using modern techniques and hardware."
   ]
  },
  {
   "cell_type": "markdown",
   "id": "78c27c78",
   "metadata": {},
   "source": [
    "### Output Layer"
   ]
  },
  {
   "cell_type": "markdown",
   "id": "44fb8f54",
   "metadata": {},
   "source": [
    "The final hidden layer is called the output layer, and it is responsible for outputting a value or vector of values that correspond to the format required for the problem.\n",
    "\n"
   ]
  },
  {
   "cell_type": "markdown",
   "id": "1845b2c3",
   "metadata": {},
   "source": [
    "## Algorithm"
   ]
  },
  {
   "cell_type": "markdown",
   "id": "6918e5eb",
   "metadata": {},
   "source": [
    "<img src=\"./Desktop/semester2/577_github/2.png\" width=\"400\" height=\"400\">"
   ]
  },
  {
   "cell_type": "markdown",
   "id": "cc6c2023",
   "metadata": {},
   "source": [
    "## Application on Dataset"
   ]
  },
  {
   "cell_type": "code",
   "execution_count": 1,
   "id": "79c45360",
   "metadata": {},
   "outputs": [],
   "source": [
    "from tensorflow import keras \n",
    "import numpy as np\n",
    "import matplotlib.pyplot as plt\n",
    "from keras.datasets import fashion_mnist\n",
    "from sklearn.preprocessing import StandardScaler\n",
    "from sklearn.metrics import accuracy_score\n",
    "from sklearn.metrics import classification_report "
   ]
  },
  {
   "cell_type": "code",
   "execution_count": 44,
   "id": "c5bbb5fd",
   "metadata": {},
   "outputs": [],
   "source": [
    "import numpy as np\n",
    "\n",
    "train_X = np.load('kmnist-train-imgs.npz')['arr_0']\n",
    "train_y = np.load('kmnist-train-labels.npz')['arr_0']\n",
    "test_X = np.load('kmnist-test-imgs.npz')['arr_0']\n",
    "test_y = np.load('kmnist-test-labels.npz')['arr_0']"
   ]
  },
  {
   "cell_type": "code",
   "execution_count": 45,
   "id": "84544b50",
   "metadata": {},
   "outputs": [
    {
     "data": {
      "text/plain": [
       "(60000, 28, 28)"
      ]
     },
     "execution_count": 45,
     "metadata": {},
     "output_type": "execute_result"
    }
   ],
   "source": [
    "train_X.shape"
   ]
  },
  {
   "cell_type": "code",
   "execution_count": 46,
   "id": "70df538c",
   "metadata": {},
   "outputs": [],
   "source": [
    "# normalize the data \n",
    "train_X = train_X/np.max(train_X)\n",
    "test_X = test_X/np.max(train_X)\n",
    "\n",
    "# Flatten the training images into coloumn vectors. \n",
    "flat_train_X = []\n",
    "onehot_train_y = []\n",
    "\n",
    "for x, y in zip(train_X, train_y):\n",
    "    flat_train_X.append(x.flatten().reshape(784, 1))\n",
    "    temp_vec = np.zeros((10, 1))\n",
    "    temp_vec[y][0] = 1.0\n",
    "    onehot_train_y.append(temp_vec)\n",
    "   \n",
    "\n",
    "flat_test_X = []\n",
    "onehot_test_y = []\n",
    "\n",
    "for x, y in zip(test_X, test_y):\n",
    "    flat_test_X.append(x.flatten().reshape(784, 1))\n",
    "    temp_vec = np.zeros((10, 1))\n",
    "    temp_vec[y] = 1.0\n",
    "    onehot_test_y.append(temp_vec)"
   ]
  },
  {
   "cell_type": "code",
   "execution_count": 47,
   "id": "1d4c1d32",
   "metadata": {},
   "outputs": [
    {
     "data": {
      "text/plain": [
       "<matplotlib.image.AxesImage at 0x7fedb13d2e50>"
      ]
     },
     "execution_count": 47,
     "metadata": {},
     "output_type": "execute_result"
    },
    {
     "data": {
      "image/png": "[encoded data removed]",
      "text/plain": [
       "<Figure size 640x480 with 1 Axes>"
      ]
     },
     "metadata": {},
     "output_type": "display_data"
    }
   ],
   "source": [
    "plt.imshow(train_X[10], cmap=\"gray\")"
   ]
  },
  {
   "cell_type": "code",
   "execution_count": 48,
   "id": "c4db035a",
   "metadata": {},
   "outputs": [],
   "source": [
    "def sigmoid(z):\n",
    "    return 1.0/(1.0+np.exp(-z))\n",
    "\n",
    "def d_sigmoid(z):\n",
    "    return sigmoid(z)*(1.0 - sigmoid(z))\n",
    "\n",
    "def mse(a, y):\n",
    "    return .5*sum((a[i] - y[i])**2 for i in range(10))[0]\n",
    "\n",
    "def initialize_weights(layers = [784, 60, 60, 10]):\n",
    "    W = [[0.0]]\n",
    "    B = [[0.0]]\n",
    "    for i in range(1, len(layers)):\n",
    "        w_temp = np.random.randn(layers[i], layers[i-1])*np.sqrt(2/layers[i-1])\n",
    "        b_temp = np.random.randn(layers[i], 1)*np.sqrt(2/layers[i-1])\n",
    "    \n",
    "        W.append(w_temp)\n",
    "        B.append(b_temp)\n",
    "    return W, B"
   ]
  },
  {
   "cell_type": "code",
   "execution_count": 27,
   "id": "e530a4b3",
   "metadata": {},
   "outputs": [],
   "source": [
    "W, B = initialize_weights()\n",
    "\n",
    "def forward_pass(W, B, x, predict_vector = False):\n",
    "    Z = [[0.0]]\n",
    "    A = [x]\n",
    "    L = len(W) - 1\n",
    "    for i in range(1, L + 1):\n",
    "        z = W[i] @ A[i-1] + B[i]\n",
    "        Z.append(z)\n",
    "        \n",
    "        a = sigmoid(z)\n",
    "        A.append(a)\n",
    "        \n",
    "    if predict_vector == False:\n",
    "        return Z, A\n",
    "    else:\n",
    "        return A[-1]\n",
    "\n",
    "def predict(W, B, x):\n",
    "    _, A = forward_pass(W, B, x)\n",
    "    return np.argmax(A[-1])\n",
    "\n",
    "y_hat = forward_pass(W, B, flat_train_X[0], predict_vector=True)\n",
    "\n",
    "def MSE(W, B, X, y):\n",
    "    cost = 0.0\n",
    "    k = 0\n",
    "    for xi, yi in zip(X, y):\n",
    "        a = forward_pass(W, B, xi, predict_vector = True)\n",
    "        cost += mse(a, yi)\n",
    "        k+=1\n",
    "    return cost/k"
   ]
  },
  {
   "cell_type": "code",
   "execution_count": 28,
   "id": "27315d2d",
   "metadata": {},
   "outputs": [],
   "source": [
    "class DenseNetwork(object):\n",
    "    def __init__(self, layers):\n",
    "        self.layers = layers\n",
    "        self.W, self.B = initialize_weights(layers = self.layers)\n",
    "\n",
    "    def train(self, X_train, y_train, alpha = 0.046, epochs = 4):\n",
    "        self.errors_ = [MSE(self.W, self.B, X_train, y_train)]\n",
    "        print(f\"Starting Cost = {self.errors_[0]}\")\n",
    "\n",
    "        sample_size = len(X_train)\n",
    "        L = len(self.layers) - 1\n",
    "     \n",
    "        for k in range(epochs):\n",
    "            \n",
    "            for xi, yi in zip(X_train, y_train):\n",
    "                # Use the forward pass function defined before\n",
    "                # and find the preactivation and postactivation values.\n",
    "                Z, A = forward_pass(self.W, self.B, xi)\n",
    "\n",
    "                # Store the errors in a dictionary for clear interpretation\n",
    "                # of computation of these values.\n",
    "                deltas = dict()\n",
    "\n",
    "                output_error = (A[L] - yi)*d_sigmoid(Z[L])\n",
    "                deltas[L] = output_error\n",
    "\n",
    "                # Loop from L-1 to 1. Recall the right entry of the range function \n",
    "                # is non-inclusive. \n",
    "                for i in range(L-1, 0, -1):\n",
    "                    \n",
    "                    deltas[i] = (self.W[i+1].T @ deltas[i+1])*d_sigmoid(Z[i])\n",
    "\n",
    "                # Loop over each hidden layer and the output layer to perform gradient \n",
    "                # descent. \n",
    "                for i in range(1, L+1):\n",
    "                    self.W[i] -= alpha*deltas[i] @ A[i-1].T\n",
    "                    self.B[i] -= alpha*deltas[i]\n",
    "\n",
    "            # Show the cost over all training examples\n",
    "            self.errors_.append(MSE(self.W, self.B, X_train, y_train))   \n",
    "            print(f\"{k + 1}-Epoch Cost = {self.errors_[-1]}\")\n",
    "    \n",
    "    def predict(self, xi):\n",
    "        depth = len(self.layers)\n",
    "        _, A = forward_pass(self.W, self.B, xi)\n",
    "        return np.argmax(A[-1])"
   ]
  },
  {
   "cell_type": "code",
   "execution_count": 29,
   "id": "0acc51b1",
   "metadata": {},
   "outputs": [
    {
     "name": "stdout",
     "output_type": "stream",
     "text": [
      "MSE(net.W, net.B, flat_train_X, onehot_train_y) = 1.6419271436263168 \n",
      "\n",
      "Starting Cost = 1.6419271436263168\n",
      "1-Epoch Cost = 0.12861987771062058\n",
      "2-Epoch Cost = 0.11149488928621086\n",
      "3-Epoch Cost = 0.10422497502657896\n",
      "4-Epoch Cost = 0.09807589047131851\n"
     ]
    }
   ],
   "source": [
    "net = DenseNetwork(layers = [784, 100, 120, 100, 10])\n",
    "\n",
    "# Check the mean squared error before training \n",
    "print(f\"MSE(net.W, net.B, flat_train_X, onehot_train_y) = {MSE(net.W, net.B, flat_train_X, onehot_train_y)} \\n\")\n",
    "net.train(flat_train_X, onehot_train_y)\n"
   ]
  },
  {
   "cell_type": "markdown",
   "id": "787c9046",
   "metadata": {},
   "source": [
    "The cost is become smaller and smaller."
   ]
  },
  {
   "cell_type": "code",
   "execution_count": 30,
   "id": "f3e796a3",
   "metadata": {},
   "outputs": [
    {
     "name": "stderr",
     "output_type": "stream",
     "text": [
      "/var/folders/sf/smhqk9hx489bblvt_p7gst_w0000gn/T/ipykernel_3944/4076384693.py:2: RuntimeWarning: overflow encountered in exp\n",
      "  return 1.0/(1.0+np.exp(-z))\n"
     ]
    }
   ],
   "source": [
    "y_pred = []\n",
    "actual_y = []\n",
    "for i in range(len(flat_test_X)):\n",
    "    prediction = net.predict(flat_test_X[i])\n",
    "    y_pred.append(prediction)\n",
    "    actual_y.append(np.argmax(onehot_test_y[i]))"
   ]
  },
  {
   "cell_type": "code",
   "execution_count": 31,
   "id": "2ee65d19",
   "metadata": {},
   "outputs": [
    {
     "data": {
      "text/plain": [
       "0.8327"
      ]
     },
     "execution_count": 31,
     "metadata": {},
     "output_type": "execute_result"
    }
   ],
   "source": [
    "accuracy_score(y_pred,actual_y)"
   ]
  },
  {
   "cell_type": "code",
   "execution_count": 32,
   "id": "d98728bb",
   "metadata": {},
   "outputs": [
    {
     "name": "stdout",
     "output_type": "stream",
     "text": [
      "\n",
      "Classification Report\n",
      "              precision    recall  f1-score   support\n",
      "\n",
      "           0       0.78      0.84      0.81       935\n",
      "           1       0.96      0.94      0.95      1026\n",
      "           2       0.74      0.75      0.74       991\n",
      "           3       0.83      0.84      0.84       990\n",
      "           4       0.83      0.67      0.74      1249\n",
      "           5       0.75      0.99      0.85       763\n",
      "           6       0.55      0.72      0.62       760\n",
      "           7       0.94      0.86      0.90      1092\n",
      "           8       0.96      0.92      0.94      1052\n",
      "           9       0.96      0.85      0.90      1142\n",
      "\n",
      "    accuracy                           0.83     10000\n",
      "   macro avg       0.83      0.84      0.83     10000\n",
      "weighted avg       0.85      0.83      0.84     10000\n",
      "\n"
     ]
    }
   ],
   "source": [
    "model_report = classification_report(y_pred,actual_y)\n",
    "print(\"\\nClassification Report\")\n",
    "print(model_report)\n"
   ]
  },
  {
   "cell_type": "markdown",
   "id": "afee195c",
   "metadata": {},
   "source": [
    "The accuracy score is 0.8327, which is not bad. "
   ]
  }
 ],
 "metadata": {
  "kernelspec": {
   "display_name": "Python 3 (ipykernel)",
   "language": "python",
   "name": "python3"
  },
  "language_info": {
   "codemirror_mode": {
    "name": "ipython",
    "version": 3
   },
   "file_extension": ".py",
   "mimetype": "text/x-python",
   "name": "python",
   "nbconvert_exporter": "python",
   "pygments_lexer": "ipython3",
   "version": "3.9.13"
  }
 },
 "nbformat": 4,
 "nbformat_minor": 5
}

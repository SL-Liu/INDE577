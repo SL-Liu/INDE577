{
 "cells": [
  {
   "cell_type": "markdown",
   "id": "da955983",
   "metadata": {},
   "source": [
    "# Linear Rrgression"
   ]
  },
  {
   "cell_type": "markdown",
   "id": "48c81df6",
   "metadata": {},
   "source": [
    "## Contents"
   ]
  },
  {
   "cell_type": "markdown",
   "id": "44bdcdc9",
   "metadata": {},
   "source": [
    "* Introduction\n",
    "* Algorithm\n",
    "* Application on dataset\n",
    "* Error Analysis\n",
    "* Conclusion\n"
   ]
  },
  {
   "cell_type": "markdown",
   "id": "29eb336b",
   "metadata": {},
   "source": [
    "***"
   ]
  },
  {
   "cell_type": "markdown",
   "id": "23ab8d2d",
   "metadata": {},
   "source": [
    "## Introduction"
   ]
  },
  {
   "cell_type": "markdown",
   "id": "8c0e0e6d",
   "metadata": {},
   "source": [
    "When modeling the relationship between a scalar answer and one or more explanatory factors, linear regression is a linear method (also known as dependent and independent variables). Simple linear regression is used when there is only one explanatory variable, and multiple linear regression is used when there are numerous variables. As opposed to multivariate linear regression, which predicts numerous correlated dependent variables as opposed to a single scalar variable, this phrase is more specific.\n",
    "\n",
    "A linear regression model describes the relationship between a dependent variable $y$, and one or more independent variables $X$. The dependent variable is also called the response variable. Independent variables are also called explanatory or predictor variables. Continuous predictor variables are also called covariates, and categorical predictor variables are also called factors. The matrix X of observations on predictor variables is usually called the design matrix.\n"
   ]
  },
  {
   "cell_type": "markdown",
   "id": "ce0f0e1f",
   "metadata": {},
   "source": [
    "***"
   ]
  },
  {
   "cell_type": "markdown",
   "id": "a625de88",
   "metadata": {},
   "source": [
    "## Algorithm\n",
    "\n"
   ]
  },
  {
   "cell_type": "markdown",
   "id": "9ad610a5",
   "metadata": {},
   "source": [
    "A multiple linear regression model is\n",
    "\n",
    "$y = \\beta_{0}+\\beta_{1}X_{i1}+\\beta_{2}X_{i2}+\\cdots+\\beta_{p}X_{p1}+\\epsilon_{i}$ \n",
    "$i=1,\\cdots,n$\n",
    "\n",
    "where\n",
    "$y_{i}$ is the ith response.\n",
    "\n",
    "$\\beta_{k}$ is the kth coefficient, where $\\beta_{0}$ is the constant term in the model. Sometimes, design matrices might include information about the constant term. However, fitlm or stepwiselm by default includes a constant term in the model, so you must not enter a column of 1s into your design matrix $X$.\n",
    "\n",
    "$X_{ij}$ is the ith observation on the jth predictor variable, $j = 1,\\cdots, p$.\n",
    "\n",
    "$\\epsilon_{i}$ is the ith noise term, that is, random error.\n",
    "\n",
    "If a model includes only one predictor variable $(p = 1)$, then the model is called a simple linear regression model.\n",
    "\n",
    "In general, a linear regression model can be a model of the form\n",
    "\n",
    "$y_{i}=\\beta_{0}+\\Sigma_{k=1}^{K}\\beta_{k}f_{k}(X_{i1},X_{i2},\\cdots,X_{ip})$\n",
    "\n",
    "$X$ can also be write as $X=(x_{1}^{T},x_{2}^{T},\\cdots,x_{n}^{T})$, in which $x_{i}^{T} = (x_{i1},x_{i2},\\cdots,x_{ip})$.$y=(y_{1},y_{2},\\cdots,y_{n})$\n",
    "\n",
    "In this way, the linear regression model can be written as the following:\n",
    "\n",
    "$y_{i}=\\beta_{0}+\\Sigma_{j=1}^{p}\\beta_{j}x_{ij}+\\epsilon_{i}$\n",
    "\n",
    "A simple way is write the linear model as:\n",
    "$y=X\\beta+\\epsilon$, in which $X=(1,x_{1},x_{2},\\cdots,x_{n})$\n",
    "\n",
    "Residual sum of squares RSS is \n",
    "\n",
    "$RSS = \\Sigma_{i=1}^{n}(y_{i}-\\beta_{0}-\\beta_{1}x_{i1}-\\cdots-\\beta_{p}x_{ip})^2$\n",
    "\n",
    "$MSE = \\frac{1}{n}RSS$\n",
    "\n",
    "The least square estimates of $\\beta $ is $(X'X)^{-1}X'y$\n",
    "\n",
    "\n",
    "\n",
    "\n",
    "\n"
   ]
  },
  {
   "attachments": {
    "linearregressionerror.png": {
     "image/png": "[encoded data removed]"
    }
   },
   "cell_type": "markdown",
   "id": "ece08d45",
   "metadata": {},
   "source": [
    "![linearregressionerror.png](attachment:linearregressionerror.png)"
   ]
  },
  {
   "cell_type": "markdown",
   "id": "d77c2c2a",
   "metadata": {},
   "source": [
    "### Advantages\n",
    "Linear Regression is a very simple algorithm that can be implemented very easily to give satisfactory results.Furthermore, these models can be trained easily and efficiently even on systems with relatively low computational power when compared to other complex algorithms.Linear regression has a considerably lower time complexity when compared to some of the other machine learning algorithms.The mathematical equations of Linear regression are also fairly easy to understand and interpret.Hence Linear regression is very easy to master.\n",
    "\n",
    "Linear regression fits linearly seperable datasets almost perfectly and is often used to find the nature of the relationship between variables.\n",
    "\n",
    "Overfitting is a situation that arises when a machine learning model fits a dataset very closely and hence captures the noisy data as well.This negatively impacts the performance of model and reduces its accuracy on the test set.\n",
    "Regularization is a technique that can be easily implemented and is capable of effectively reducing the complexity of a function so as to reduce the risk of overfitting.\n",
    "\n",
    "\n",
    "### Disadvantages\n",
    "\n",
    "Outliers of a data set are anomalies or extreme values that deviate from the other data points of the distribution.Data outliers can damage the performance\n",
    "of a machine learning model drastically and can often lead to models with low accuracy.\n",
    "\n",
    "Very often the inputs are not independent of each other and hence any multicollinearity must be removed before applying linear regression.\n"
   ]
  },
  {
   "cell_type": "markdown",
   "id": "7682426c",
   "metadata": {},
   "source": [
    "***"
   ]
  },
  {
   "cell_type": "markdown",
   "id": "52051b95",
   "metadata": {},
   "source": [
    "## Application On Dataset"
   ]
  },
  {
   "cell_type": "code",
   "execution_count": 40,
   "id": "23a2464e",
   "metadata": {},
   "outputs": [],
   "source": [
    "import numpy as np \n",
    "import pandas as pd \n",
    "from IPython.display import Image \n",
    "import seaborn as sns\n",
    "import matplotlib.pyplot as plt\n",
    "from sklearn.model_selection import train_test_split"
   ]
  },
  {
   "cell_type": "markdown",
   "id": "c6cbaf5e",
   "metadata": {},
   "source": [
    "## Prepare Data"
   ]
  },
  {
   "cell_type": "code",
   "execution_count": 41,
   "id": "660d0365",
   "metadata": {},
   "outputs": [],
   "source": [
    "data = pd.read_csv('/Users/liusiling/Desktop/semester1/615/House_Price.csv')\n",
    "data2 = data"
   ]
  },
  {
   "cell_type": "code",
   "execution_count": 42,
   "id": "f0041e6f",
   "metadata": {},
   "outputs": [
    {
     "data": {
      "text/html": [
       "<div>\n",
       "<style scoped>\n",
       "    .dataframe tbody tr th:only-of-type {\n",
       "        vertical-align: middle;\n",
       "    }\n",
       "\n",
       "    .dataframe tbody tr th {\n",
       "        vertical-align: top;\n",
       "    }\n",
       "\n",
       "    .dataframe thead th {\n",
       "        text-align: right;\n",
       "    }\n",
       "</style>\n",
       "<table border=\"1\" class=\"dataframe\">\n",
       "  <thead>\n",
       "    <tr style=\"text-align: right;\">\n",
       "      <th></th>\n",
       "      <th>price</th>\n",
       "      <th>crime_rate</th>\n",
       "      <th>resid_area</th>\n",
       "      <th>air_qual</th>\n",
       "      <th>room_num</th>\n",
       "      <th>age</th>\n",
       "      <th>dist1</th>\n",
       "      <th>dist2</th>\n",
       "      <th>dist3</th>\n",
       "      <th>dist4</th>\n",
       "      <th>teachers</th>\n",
       "      <th>poor_prop</th>\n",
       "      <th>airport</th>\n",
       "      <th>n_hos_beds</th>\n",
       "      <th>n_hot_rooms</th>\n",
       "      <th>waterbody</th>\n",
       "      <th>rainfall</th>\n",
       "      <th>bus_ter</th>\n",
       "      <th>parks</th>\n",
       "    </tr>\n",
       "  </thead>\n",
       "  <tbody>\n",
       "    <tr>\n",
       "      <th>0</th>\n",
       "      <td>24.0</td>\n",
       "      <td>0.00632</td>\n",
       "      <td>32.31</td>\n",
       "      <td>0.538</td>\n",
       "      <td>6.575</td>\n",
       "      <td>65.2</td>\n",
       "      <td>4.35</td>\n",
       "      <td>3.81</td>\n",
       "      <td>4.18</td>\n",
       "      <td>4.01</td>\n",
       "      <td>24.7</td>\n",
       "      <td>4.98</td>\n",
       "      <td>YES</td>\n",
       "      <td>5.480</td>\n",
       "      <td>11.1920</td>\n",
       "      <td>River</td>\n",
       "      <td>23</td>\n",
       "      <td>YES</td>\n",
       "      <td>0.049347</td>\n",
       "    </tr>\n",
       "    <tr>\n",
       "      <th>1</th>\n",
       "      <td>21.6</td>\n",
       "      <td>0.02731</td>\n",
       "      <td>37.07</td>\n",
       "      <td>0.469</td>\n",
       "      <td>6.421</td>\n",
       "      <td>78.9</td>\n",
       "      <td>4.99</td>\n",
       "      <td>4.70</td>\n",
       "      <td>5.12</td>\n",
       "      <td>5.06</td>\n",
       "      <td>22.2</td>\n",
       "      <td>9.14</td>\n",
       "      <td>NO</td>\n",
       "      <td>7.332</td>\n",
       "      <td>12.1728</td>\n",
       "      <td>Lake</td>\n",
       "      <td>42</td>\n",
       "      <td>YES</td>\n",
       "      <td>0.046146</td>\n",
       "    </tr>\n",
       "    <tr>\n",
       "      <th>2</th>\n",
       "      <td>34.7</td>\n",
       "      <td>0.02729</td>\n",
       "      <td>37.07</td>\n",
       "      <td>0.469</td>\n",
       "      <td>7.185</td>\n",
       "      <td>61.1</td>\n",
       "      <td>5.03</td>\n",
       "      <td>4.86</td>\n",
       "      <td>5.01</td>\n",
       "      <td>4.97</td>\n",
       "      <td>22.2</td>\n",
       "      <td>4.03</td>\n",
       "      <td>NO</td>\n",
       "      <td>7.394</td>\n",
       "      <td>101.1200</td>\n",
       "      <td>None</td>\n",
       "      <td>38</td>\n",
       "      <td>YES</td>\n",
       "      <td>0.045764</td>\n",
       "    </tr>\n",
       "    <tr>\n",
       "      <th>3</th>\n",
       "      <td>33.4</td>\n",
       "      <td>0.03237</td>\n",
       "      <td>32.18</td>\n",
       "      <td>0.458</td>\n",
       "      <td>6.998</td>\n",
       "      <td>45.8</td>\n",
       "      <td>6.21</td>\n",
       "      <td>5.93</td>\n",
       "      <td>6.16</td>\n",
       "      <td>5.96</td>\n",
       "      <td>21.3</td>\n",
       "      <td>2.94</td>\n",
       "      <td>YES</td>\n",
       "      <td>9.268</td>\n",
       "      <td>11.2672</td>\n",
       "      <td>Lake</td>\n",
       "      <td>45</td>\n",
       "      <td>YES</td>\n",
       "      <td>0.047151</td>\n",
       "    </tr>\n",
       "    <tr>\n",
       "      <th>4</th>\n",
       "      <td>36.2</td>\n",
       "      <td>0.06905</td>\n",
       "      <td>32.18</td>\n",
       "      <td>0.458</td>\n",
       "      <td>7.147</td>\n",
       "      <td>54.2</td>\n",
       "      <td>6.16</td>\n",
       "      <td>5.86</td>\n",
       "      <td>6.37</td>\n",
       "      <td>5.86</td>\n",
       "      <td>21.3</td>\n",
       "      <td>5.33</td>\n",
       "      <td>NO</td>\n",
       "      <td>8.824</td>\n",
       "      <td>11.2896</td>\n",
       "      <td>Lake</td>\n",
       "      <td>55</td>\n",
       "      <td>YES</td>\n",
       "      <td>0.039474</td>\n",
       "    </tr>\n",
       "  </tbody>\n",
       "</table>\n",
       "</div>"
      ],
      "text/plain": [
       "   price  crime_rate  resid_area  air_qual  room_num   age  dist1  dist2  \\\n",
       "0   24.0     0.00632       32.31     0.538     6.575  65.2   4.35   3.81   \n",
       "1   21.6     0.02731       37.07     0.469     6.421  78.9   4.99   4.70   \n",
       "2   34.7     0.02729       37.07     0.469     7.185  61.1   5.03   4.86   \n",
       "3   33.4     0.03237       32.18     0.458     6.998  45.8   6.21   5.93   \n",
       "4   36.2     0.06905       32.18     0.458     7.147  54.2   6.16   5.86   \n",
       "\n",
       "   dist3  dist4  teachers  poor_prop airport  n_hos_beds  n_hot_rooms  \\\n",
       "0   4.18   4.01      24.7       4.98     YES       5.480      11.1920   \n",
       "1   5.12   5.06      22.2       9.14      NO       7.332      12.1728   \n",
       "2   5.01   4.97      22.2       4.03      NO       7.394     101.1200   \n",
       "3   6.16   5.96      21.3       2.94     YES       9.268      11.2672   \n",
       "4   6.37   5.86      21.3       5.33      NO       8.824      11.2896   \n",
       "\n",
       "  waterbody  rainfall bus_ter     parks  \n",
       "0     River        23     YES  0.049347  \n",
       "1      Lake        42     YES  0.046146  \n",
       "2      None        38     YES  0.045764  \n",
       "3      Lake        45     YES  0.047151  \n",
       "4      Lake        55     YES  0.039474  "
      ]
     },
     "execution_count": 42,
     "metadata": {},
     "output_type": "execute_result"
    }
   ],
   "source": [
    "data.head()"
   ]
  },
  {
   "cell_type": "code",
   "execution_count": 43,
   "id": "a4eb23a9",
   "metadata": {},
   "outputs": [
    {
     "name": "stdout",
     "output_type": "stream",
     "text": [
      "<class 'pandas.core.frame.DataFrame'>\n",
      "RangeIndex: 506 entries, 0 to 505\n",
      "Data columns (total 19 columns):\n",
      " #   Column       Non-Null Count  Dtype  \n",
      "---  ------       --------------  -----  \n",
      " 0   price        506 non-null    float64\n",
      " 1   crime_rate   506 non-null    float64\n",
      " 2   resid_area   506 non-null    float64\n",
      " 3   air_qual     506 non-null    float64\n",
      " 4   room_num     506 non-null    float64\n",
      " 5   age          506 non-null    float64\n",
      " 6   dist1        506 non-null    float64\n",
      " 7   dist2        506 non-null    float64\n",
      " 8   dist3        506 non-null    float64\n",
      " 9   dist4        506 non-null    float64\n",
      " 10  teachers     506 non-null    float64\n",
      " 11  poor_prop    506 non-null    float64\n",
      " 12  airport      506 non-null    object \n",
      " 13  n_hos_beds   498 non-null    float64\n",
      " 14  n_hot_rooms  506 non-null    float64\n",
      " 15  waterbody    506 non-null    object \n",
      " 16  rainfall     506 non-null    int64  \n",
      " 17  bus_ter      506 non-null    object \n",
      " 18  parks        506 non-null    float64\n",
      "dtypes: float64(15), int64(1), object(3)\n",
      "memory usage: 75.2+ KB\n"
     ]
    }
   ],
   "source": [
    "data.info()"
   ]
  },
  {
   "cell_type": "code",
   "execution_count": 53,
   "id": "4c95688e",
   "metadata": {},
   "outputs": [
    {
     "name": "stderr",
     "output_type": "stream",
     "text": [
      "/var/folders/sf/smhqk9hx489bblvt_p7gst_w0000gn/T/ipykernel_33049/1110475198.py:12: SettingWithCopyWarning: \n",
      "A value is trying to be set on a copy of a slice from a DataFrame\n",
      "\n",
      "See the caveats in the documentation: https://pandas.pydata.org/pandas-docs/stable/user_guide/indexing.html#returning-a-view-versus-a-copy\n",
      "  data2['waterbody'][i]=2\n",
      "/var/folders/sf/smhqk9hx489bblvt_p7gst_w0000gn/T/ipykernel_33049/1110475198.py:10: SettingWithCopyWarning: \n",
      "A value is trying to be set on a copy of a slice from a DataFrame\n",
      "\n",
      "See the caveats in the documentation: https://pandas.pydata.org/pandas-docs/stable/user_guide/indexing.html#returning-a-view-versus-a-copy\n",
      "  data2['waterbody'][i]=1\n",
      "/var/folders/sf/smhqk9hx489bblvt_p7gst_w0000gn/T/ipykernel_33049/1110475198.py:8: SettingWithCopyWarning: \n",
      "A value is trying to be set on a copy of a slice from a DataFrame\n",
      "\n",
      "See the caveats in the documentation: https://pandas.pydata.org/pandas-docs/stable/user_guide/indexing.html#returning-a-view-versus-a-copy\n",
      "  data2['waterbody'][i]=0\n",
      "/var/folders/sf/smhqk9hx489bblvt_p7gst_w0000gn/T/ipykernel_33049/1110475198.py:14: SettingWithCopyWarning: \n",
      "A value is trying to be set on a copy of a slice from a DataFrame\n",
      "\n",
      "See the caveats in the documentation: https://pandas.pydata.org/pandas-docs/stable/user_guide/indexing.html#returning-a-view-versus-a-copy\n",
      "  data2['waterbody'][i]=3\n"
     ]
    }
   ],
   "source": [
    "for i in range(0,len(data2),1):\n",
    "    if data2['airport'][i]=='YES':\n",
    "        data2['airport'][i]=1\n",
    "    if data2['airport'][i]=='NO':\n",
    "        data2['airport'][i]=0\n",
    "        \n",
    "    if data2['waterbody'][i]=='None':\n",
    "        data2['waterbody'][i]=0\n",
    "    elif data2['waterbody'][i]=='Lake':\n",
    "        data2['waterbody'][i]=1\n",
    "    elif data2['waterbody'][i]=='River':\n",
    "        data2['waterbody'][i]=2\n",
    "    else:\n",
    "        data2['waterbody'][i]=3\n",
    "        "
   ]
  },
  {
   "cell_type": "code",
   "execution_count": 45,
   "id": "f3ee3afa",
   "metadata": {},
   "outputs": [],
   "source": [
    "# Split features X and y\n",
    "data = data[['price','crime_rate','resid_area','air_qual','room_num','age','parks']]\n",
    "X = data.drop(['price'],axis=1)\n",
    "y=data['price']"
   ]
  },
  {
   "cell_type": "code",
   "execution_count": 46,
   "id": "7047adf5",
   "metadata": {},
   "outputs": [
    {
     "name": "stdout",
     "output_type": "stream",
     "text": [
      "379 127 379 127\n"
     ]
    }
   ],
   "source": [
    "# Train-test split\n",
    "X_train, X_test, y_train, y_test = train_test_split(X, y, test_size = 0.25, random_state = 40)\n",
    "print(len(X_train), len(X_test), len(y_train), len(y_test))\n"
   ]
  },
  {
   "cell_type": "markdown",
   "id": "599da1df",
   "metadata": {},
   "source": [
    "## Data visualization"
   ]
  },
  {
   "cell_type": "code",
   "execution_count": 47,
   "id": "c030d0c6",
   "metadata": {},
   "outputs": [
    {
     "data": {
      "image/png": "[encoded data removed]",
      "text/plain": [
       "<Figure size 640x480 with 1 Axes>"
      ]
     },
     "metadata": {},
     "output_type": "display_data"
    }
   ],
   "source": [
    "plt.scatter(data['room_num'],data['price'])\n",
    "plt.title(\"data analyze\")\n",
    "plt.xlabel(\"room number\")\n",
    "plt.ylabel(\"house price\")\n",
    "  \n",
    "plt.show()"
   ]
  },
  {
   "cell_type": "code",
   "execution_count": 48,
   "id": "cb28ced6",
   "metadata": {},
   "outputs": [
    {
     "data": {
      "image/png": "[encoded data removed]",
      "text/plain": [
       "<Figure size 640x480 with 1 Axes>"
      ]
     },
     "metadata": {},
     "output_type": "display_data"
    }
   ],
   "source": [
    "plt.scatter(data['crime_rate'],data['price'])\n",
    "  \n",
    "plt.title(\"data analyze\")\n",
    "plt.xlabel(\"crime rate\")\n",
    "plt.ylabel(\"house price\")\n",
    "  \n",
    "plt.show()"
   ]
  },
  {
   "cell_type": "code",
   "execution_count": 49,
   "id": "eba1ab99",
   "metadata": {},
   "outputs": [
    {
     "data": {
      "image/png": "[encoded data removed]",
      "text/plain": [
       "<Figure size 640x480 with 1 Axes>"
      ]
     },
     "metadata": {},
     "output_type": "display_data"
    }
   ],
   "source": [
    "plt.scatter(data['age'],data['price'])\n",
    "  \n",
    "plt.title(\"data analyze\")\n",
    "plt.xlabel(\"age\")\n",
    "plt.ylabel(\"house price\")\n",
    "  \n",
    "plt.show()"
   ]
  },
  {
   "cell_type": "markdown",
   "id": "45d344ba",
   "metadata": {},
   "source": [
    "## Categorical features"
   ]
  },
  {
   "cell_type": "markdown",
   "id": "d72c28ba",
   "metadata": {},
   "source": [
    "### Airport"
   ]
  },
  {
   "cell_type": "markdown",
   "id": "71a0fa2d",
   "metadata": {},
   "source": [
    "We have a feature named 'airport', 'YES' refers to the existance of airport around, 'NO' refers to no existance of airport around. There might be a difference of price bewteen those with airport around and those without airport around."
   ]
  },
  {
   "cell_type": "code",
   "execution_count": 54,
   "id": "4c703499",
   "metadata": {},
   "outputs": [
    {
     "data": {
      "image/png": "[encoded data removed]",
      "text/plain": [
       "<Figure size 640x480 with 1 Axes>"
      ]
     },
     "metadata": {},
     "output_type": "display_data"
    }
   ],
   "source": [
    "sns.boxplot(x = data2['airport'], y = data2['price'])\n",
    "plt.title(\"Boxplot of airport feature vs. price\")\n",
    "plt.ylabel(\"price\")\n",
    "plt.xlabel(None)\n",
    "plt.xticks(np.arange(2), ('No Airport', 'Airport'))\n",
    "plt.show()"
   ]
  },
  {
   "cell_type": "code",
   "execution_count": 60,
   "id": "04802393",
   "metadata": {},
   "outputs": [
    {
     "name": "stdout",
     "output_type": "stream",
     "text": [
      "The mean house price for a house with airport is USD 24.04\n",
      "The mean house price for a house without airport view is USD 20.67\n"
     ]
    }
   ],
   "source": [
    "amean =  data2[data2['airport'] == 1]['price'].mean()\n",
    "namean = data2[data2['airport'] == 0]['price'].mean()\n",
    "print(f\"The mean house price for a house with airport is USD {round(amean,2)}\")\n",
    "print(f\"The mean house price for a house without airport view is USD {round(namean,2)}\")"
   ]
  },
  {
   "cell_type": "markdown",
   "id": "9e578319",
   "metadata": {},
   "source": [
    "### Waterbody"
   ]
  },
  {
   "cell_type": "markdown",
   "id": "e355b87e",
   "metadata": {},
   "source": [
    "We have a feature named 'waterbody', there are four levels: None, Lake, River, Lake and River."
   ]
  },
  {
   "cell_type": "code",
   "execution_count": 55,
   "id": "c9a7960c",
   "metadata": {},
   "outputs": [
    {
     "data": {
      "image/png": "[encoded data removed]",
      "text/plain": [
       "<Figure size 640x480 with 1 Axes>"
      ]
     },
     "metadata": {},
     "output_type": "display_data"
    }
   ],
   "source": [
    "sns.boxplot(x = data2['waterbody'], y = data2['price'])\n",
    "plt.title(\"Boxplot of waterbody feature vs. price\")\n",
    "plt.ylabel(\"price\")\n",
    "plt.xlabel(None)\n",
    "plt.xticks(np.arange(4), ('None','Lake','River','Lake and River'))\n",
    "plt.show()"
   ]
  },
  {
   "cell_type": "code",
   "execution_count": 59,
   "id": "9137126e",
   "metadata": {},
   "outputs": [
    {
     "name": "stdout",
     "output_type": "stream",
     "text": [
      "The mean house price for a house with none watrebody is USD 21.46\n",
      "The mean house price for a house with lake is USD 23.21\n",
      "The mean house price for a house with river is USD 23.4\n",
      "The mean house price for a house with lake and river is USD 21.68\n"
     ]
    }
   ],
   "source": [
    "nmean =  data2[data2['waterbody'] == 0]['price'].mean()\n",
    "lmean = data2[data2['waterbody'] == 1]['price'].mean()\n",
    "rmean =  data2[data2['waterbody'] == 2]['price'].mean()\n",
    "bmean = data2[data2['waterbody'] == 3]['price'].mean()\n",
    "print(f\"The mean house price for a house with none watrebody is USD {round(nmean,2)}\")\n",
    "print(f\"The mean house price for a house with lake is USD {round(lmean,2)}\")\n",
    "print(f\"The mean house price for a house with river is USD {round(rmean,2)}\")\n",
    "print(f\"The mean house price for a house with lake and river is USD {round(bmean,2)}\")\n"
   ]
  },
  {
   "cell_type": "markdown",
   "id": "f338ff86",
   "metadata": {},
   "source": [
    "## Train The Linear Regression Model"
   ]
  },
  {
   "cell_type": "code",
   "execution_count": 12,
   "id": "6933c19d",
   "metadata": {},
   "outputs": [],
   "source": [
    "from statsmodels.formula.api import ols\n",
    "import statsmodels.api as sm\n",
    "import scipy.stats as stats\n",
    "from sklearn.model_selection import train_test_split\n",
    "from sklearn.feature_selection import RFE\n",
    "from sklearn.linear_model import LinearRegression\n",
    "from sklearn.model_selection import KFold\n",
    "from sklearn.model_selection import cross_val_score\n",
    "from sklearn.preprocessing import PolynomialFeatures\n",
    "from sklearn.metrics import r2_score, mean_squared_error"
   ]
  },
  {
   "cell_type": "code",
   "execution_count": 13,
   "id": "a3e7c99d",
   "metadata": {},
   "outputs": [
    {
     "data": {
      "text/plain": [
       "0.5624880745277397"
      ]
     },
     "execution_count": 13,
     "metadata": {},
     "output_type": "execute_result"
    }
   ],
   "source": [
    "# Create linear regression model\n",
    "lm = LinearRegression()\n",
    "\n",
    "# Fit data\n",
    "lm.fit(X_train, y_train)\n",
    "\n",
    "\n",
    "scores = cross_val_score(\n",
    "            lm, \n",
    "            X_train,\n",
    "            y_train,\n",
    "            cv=20,\n",
    "            scoring=\"neg_mean_squared_error\"\n",
    ")\n",
    "lm_score =lm.score(X_train, y_train)\n",
    "lm_score"
   ]
  },
  {
   "cell_type": "markdown",
   "id": "b5594ea9",
   "metadata": {},
   "source": [
    "## Model Definition"
   ]
  },
  {
   "cell_type": "markdown",
   "id": "b25472fc",
   "metadata": {},
   "source": [
    "\n",
    "If we write linear regression mpdel as $y=X\\beta+\\epsilon$, in which $X=(1,x_{1},x_{2},\\cdots,x_{n})$\n",
    "\n",
    "Then the least square estimates of $\\beta $ is $(X'X)^{-1}X'y$\n",
    "\n",
    "We can use this equation to compute the best estimator."
   ]
  },
  {
   "cell_type": "code",
   "execution_count": 14,
   "id": "ff42c001",
   "metadata": {},
   "outputs": [],
   "source": [
    "class lr():\n",
    "    def __init__(self):\n",
    "        self.X = None\n",
    "        self.y = None\n",
    "        self.betahat=None\n",
    "        self.yhat = None\n",
    "        self.n = None\n",
    "        self.p = None\n",
    "        self.bias = None\n",
    "        \n",
    "    def fit(self,X,y,bias):\n",
    "        X = X.to_numpy()\n",
    "        y = y.to_numpy()\n",
    "        if bias:\n",
    "            X = np.append(np.ones((X.shape[0], 1)), X, axis=1)\n",
    "            \n",
    "        self.X = X\n",
    "        self.y = y\n",
    "        self.n = X.shape[0]\n",
    "        self.p = X.shape[1]\n",
    "        betahat = np.linalg.inv(X.T @ X) @ X.T @ y\n",
    "        self.betahat = betahat\n",
    "        self.yhat = X @ betahat\n",
    "        \n",
    "    \n",
    "    def predict(self, x):\n",
    "        if self.bias:\n",
    "            ones_column = np.ones((x.shape[0], 1))\n",
    "            x = np.append(ones_column, x, axis=1)\n",
    "        return x @ self.beta_hat\n",
    "    \n",
    "    def SSE(self):\n",
    "        return (self.y-self.yhat).T@(self.y-self.yhat)\n",
    "    \n",
    "    def MSE(self):\n",
    "        return self.SSE()/(self.n-self.p)\n",
    "    \n",
    "    def SSR(self):\n",
    "        return (self.yhat - np.mean(self.y)).T @ (self.yhat - np.mean(self.y))\n",
    "\n",
    "    def SST(self):\n",
    "        return (self.y-np.mean(self.yhat)).T@(self.y-np.mean(self.yhat))\n",
    "    \n",
    "    def MSR(self):\n",
    "        return self.SSR()/(self.p-1)\n",
    "    \n",
    "    def R_2(self):\n",
    "        return 1 - self.SSE()/self.SST()\n",
    "                                \n",
    "    "
   ]
  },
  {
   "cell_type": "code",
   "execution_count": null,
   "id": "7f66bda9",
   "metadata": {},
   "outputs": [],
   "source": [
    "\n",
    "        "
   ]
  },
  {
   "cell_type": "markdown",
   "id": "0f06514c",
   "metadata": {},
   "source": [
    "## Fit on the data with bias"
   ]
  },
  {
   "cell_type": "code",
   "execution_count": 15,
   "id": "2bbd2dee",
   "metadata": {},
   "outputs": [],
   "source": [
    "model = lr()\n",
    "model.fit(X_train,y_train,bias=True)"
   ]
  },
  {
   "cell_type": "markdown",
   "id": "65af3ebe",
   "metadata": {},
   "source": [
    "Make predictions:"
   ]
  },
  {
   "cell_type": "code",
   "execution_count": 16,
   "id": "0249ca95",
   "metadata": {},
   "outputs": [
    {
     "data": {
      "text/plain": [
       "array([-12.27766433,  -0.19358946,  -0.15323406,  -1.45342647,\n",
       "         7.25609838,  -0.03202636, -20.7154801 ])"
      ]
     },
     "execution_count": 16,
     "metadata": {},
     "output_type": "execute_result"
    }
   ],
   "source": [
    "model.betahat"
   ]
  },
  {
   "cell_type": "code",
   "execution_count": 17,
   "id": "f83dacf4",
   "metadata": {},
   "outputs": [
    {
     "data": {
      "text/plain": [
       "array([23.50547884, 19.1598026 , 27.31199097, 15.36046049, 27.76574966,\n",
       "       26.31755745, 21.53438052, 26.65231009, 35.47307375, 22.03298523,\n",
       "       20.96319678,  0.04285419, 21.05389898, 14.62754429, 32.2298037 ,\n",
       "       13.01843657, 21.06666639, 26.02888572, 18.23630521, 12.54691521,\n",
       "       20.07214298, 16.71239533, 29.26602092, 28.58480489, 18.7919304 ,\n",
       "       24.39747826,  6.87904398, 24.08003385, 22.42597267, 29.397409  ,\n",
       "       19.75197452, 19.41268261, 20.98216641, 20.20511957, 32.12364819,\n",
       "       18.50483789, 25.35256313, 23.22626765, 31.27426406, 26.75115849,\n",
       "       19.23586971, 19.22500367, 20.93490135, 27.62584398, 19.04185845,\n",
       "       27.29641753, 29.832594  , 20.21521627, 16.66689957, 27.31047883,\n",
       "       18.28749952, 23.72557656, 24.24305878, 21.75247342, 26.30923185,\n",
       "       13.23728178, 18.34081096, 14.33067368, 23.25999117, 23.58914316,\n",
       "       21.16562647, 27.14966415, 20.23749861, 13.76861265, 20.30917281,\n",
       "       23.20602159, 29.01716962, 25.45210478, 25.64659034, 20.4675573 ,\n",
       "       28.96765393, 22.98457223, 18.98741182, 30.09608166, 37.91739214,\n",
       "       32.26192694,  0.48681388, 21.91045506, 38.28651325, 17.66473352,\n",
       "       23.16944133, 30.58524271, 23.9260553 , 13.26660769, 31.20428401,\n",
       "       18.61533324, 28.26839499, 25.76279025, 23.53622805, 21.6884191 ,\n",
       "       20.93768446, 21.25900403, 21.26735383, 37.17400139, 14.5798315 ,\n",
       "       10.42776957, 29.65975818, 16.00888839, 31.75045875, 26.82045603,\n",
       "       27.22528367, 34.78120241, 32.67517392, 27.2950227 , 29.60591006,\n",
       "       21.60067519,  9.10829139, 17.91547852, 31.61969166, 21.29803536,\n",
       "       25.05163906, 22.20523386, 28.31500123, 21.88547954, 23.26546883,\n",
       "       23.54637769, 18.34289019, 19.32589854, 30.46049399, 26.86658938,\n",
       "       14.86160314, 34.61004713, 22.99883283, 25.52299119, 12.89772559,\n",
       "       26.92162556, 21.35439736, 13.3133875 , 29.2316767 , 25.49509324,\n",
       "       24.86921508, 17.35671007,  6.98324074, 28.41283509, 25.79925646,\n",
       "       24.0932994 , 23.82943499, 20.65680063, 21.89608562,  0.92431758,\n",
       "       23.11003931, 31.87531363, 17.63527248, 18.01645865, 22.5736839 ,\n",
       "       21.24449833, 25.65198621, 13.45665234, 30.63916385, 18.27353442,\n",
       "       23.49671002, 21.94799726, 25.94554049, 38.40125178, 17.66379514,\n",
       "       19.88421177, 16.67740807, 19.46321003, 26.35488047, 17.35290859,\n",
       "       20.65246338, 23.30988205,  6.93316655, 14.59882807, 15.87461437,\n",
       "       29.06835912, 22.83927175, 17.96090918, 22.00666978, 19.50955858,\n",
       "       22.7731714 , 20.56628975, 16.12673575, 18.84210959, 21.80990201,\n",
       "        8.87934147, 16.98498635, 18.3725859 , 18.96807605, 12.07780018,\n",
       "       26.48980842, 11.29811486, 37.2742668 , 16.20474259, 23.88622389,\n",
       "       19.92839818, 30.20964668, 20.72378342, 27.1625481 , 31.13938889,\n",
       "       27.11327884, 30.23825193, 25.02852011, 20.84824628, 35.77235096,\n",
       "       26.49511042, 10.11012628, 34.73853887, 19.64601271, 22.13507614,\n",
       "       16.19654079, 25.29402711, 24.9185442 , 25.02116308, 22.45669661,\n",
       "       17.95525644, 18.03281956, 16.94159283, 22.17900914, 24.72808106,\n",
       "       30.73703046, 22.71594864, 22.84372186, 21.78926869, 21.13321845,\n",
       "       32.1995494 , 18.42626487, 28.01119178, 30.40697183, 17.92489765,\n",
       "       17.74695   , 25.31616626, 16.62189595, 20.10669193, 21.11784574,\n",
       "       19.74048582, 22.49973425, 20.19032397, 15.95944554, 19.3254544 ,\n",
       "       29.70847226, 27.01856777, 20.73069057, 25.21011187, 19.98347546,\n",
       "       28.09157557, 31.55534991, 22.86352086, 15.08741395, 24.47452836,\n",
       "       27.03576089, 21.69098655, 29.86255725, 19.45372284, 29.85437161,\n",
       "       21.641699  , 23.23930428, 22.16945674, 20.59571753, 33.32161157,\n",
       "       21.14635486, 26.96416159, 20.60705149, 22.74171252, 27.46023913,\n",
       "       16.63500363, 17.15738656, 30.58018069, 22.24090308, 23.2335528 ,\n",
       "       21.59112367, 12.89821515, 10.46630694, 31.75678559, 20.83927932,\n",
       "       28.56928636, 20.27114106, 16.41990335, 16.37888039, 22.04325134,\n",
       "       29.26457158, 14.10103181, 28.83370474, 38.03710507, 19.8376793 ,\n",
       "       19.16895912, 27.42308038, 24.82826412, 19.35804818, 21.19712174,\n",
       "       12.72537651, 23.23779114, 25.72421301, 18.52942876, 21.63225224,\n",
       "       18.84329147, 19.31865193, 23.9110012 , 19.08043306, 17.7560988 ,\n",
       "       20.88608528, 19.46261232, 23.86167771,  8.75707781, 24.46360401,\n",
       "        2.92409777, 18.55223734, 28.35951133, 26.04237862, 20.41079569,\n",
       "       20.94477957, 24.16937725, 17.63810239, 29.60103188, 20.37189626,\n",
       "       36.52158634, 21.39270285, 16.08108079, 14.97535801, 23.30934456,\n",
       "       20.55109817, 27.45802245, 19.84261303, 22.47797302, 27.26668489,\n",
       "       32.77687556, 19.40628514, 27.86274509, 18.29327776, 17.49633481,\n",
       "       28.71855392, 12.42520568, 23.86113834, 21.01122405, 20.60770634,\n",
       "       35.83719061, 22.77653161, 13.18263481, 27.62657364, 19.84510841,\n",
       "       29.6428869 , 20.2812238 , 18.1048156 , 22.13484355, 20.71678707,\n",
       "       17.07501845, 20.13091438, 16.91148008, 15.02059961,  5.00558469,\n",
       "       17.05219097, 23.04653162, 17.41786565, 31.57429631, 23.74100167,\n",
       "       25.62386953, 20.24867162, 21.29823933, 35.97214445, 36.18736689,\n",
       "       21.9495163 , 28.36171516, 21.50532599, 19.30180414, 18.64681479,\n",
       "       18.92476544, 17.60699316, 26.4135078 , 23.45474053, 27.30152902,\n",
       "       37.67216115, 25.04908476, 25.0588242 , 19.81308852, 18.13166526,\n",
       "       33.25415091, 24.61027694, 21.0332543 , 19.0886439 , 22.27151303,\n",
       "       22.91756391, 33.0512308 , 30.26221062, 32.58209023, 12.70530846,\n",
       "       18.86683276, 21.65435492, 22.29886419, 25.08951797])"
      ]
     },
     "execution_count": 17,
     "metadata": {},
     "output_type": "execute_result"
    }
   ],
   "source": [
    "model.yhat"
   ]
  },
  {
   "cell_type": "code",
   "execution_count": 18,
   "id": "98715977",
   "metadata": {},
   "outputs": [
    {
     "name": "stdout",
     "output_type": "stream",
     "text": [
      "SSE:11944.069123924251\n",
      "MSE:32.10771269872111\n",
      "SSR:15355.916153120826\n",
      "MSR:2559.319358853471\n",
      "R^2:0.5624880745277397\n"
     ]
    }
   ],
   "source": [
    "print(f\"SSE:{model.SSE()}\")\n",
    "print(f\"MSE:{model.MSE()}\")\n",
    "print(f\"SSR:{model.SSR()}\")\n",
    "print(f\"MSR:{model.MSR()}\")\n",
    "print(f\"R^2:{model.R_2()}\")"
   ]
  },
  {
   "cell_type": "markdown",
   "id": "8495471f",
   "metadata": {},
   "source": [
    "## Fit on the data without bias"
   ]
  },
  {
   "cell_type": "code",
   "execution_count": 19,
   "id": "4e96ff08",
   "metadata": {},
   "outputs": [],
   "source": [
    "model = lr()\n",
    "model.fit(X_train,y_train,bias=False)"
   ]
  },
  {
   "cell_type": "code",
   "execution_count": 21,
   "id": "098ab48e",
   "metadata": {},
   "outputs": [
    {
     "data": {
      "text/plain": [
       "array([-1.77485838e-01, -2.53728898e-01, -1.22273535e+00,  6.04003026e+00,\n",
       "       -2.50412810e-02, -4.10682240e+01])"
      ]
     },
     "execution_count": 21,
     "metadata": {},
     "output_type": "execute_result"
    }
   ],
   "source": [
    "model.betahat"
   ]
  },
  {
   "cell_type": "code",
   "execution_count": 22,
   "id": "84e542a9",
   "metadata": {},
   "outputs": [
    {
     "data": {
      "text/plain": [
       "array([24.68437973, 18.24432286, 27.53592789, 15.20641074, 27.92913302,\n",
       "       27.0462229 , 22.45306264, 26.83512649, 33.8880066 , 21.06146947,\n",
       "       21.91617952,  2.62668655, 21.74209389, 14.00329498, 29.66615353,\n",
       "       13.13252399, 20.33051845, 24.45068312, 19.97659375, 12.58253064,\n",
       "       20.62942119, 16.25591593, 29.19754346, 28.45380589, 19.93550917,\n",
       "       25.09185908,  7.72764702, 23.09694634, 23.46785822, 28.85245851,\n",
       "       18.87052341, 18.63978045, 21.21143011, 19.05385504, 31.80740171,\n",
       "       17.77691998, 26.10472734, 23.95715535, 30.44956199, 24.78892424,\n",
       "       19.91884827, 20.4241019 , 21.79378607, 27.94132954, 18.57297834,\n",
       "       28.09258058, 29.73852247, 19.19223652, 16.50236569, 27.57423988,\n",
       "       17.92595246, 24.3260534 , 25.08638613, 22.88996798, 26.25611337,\n",
       "       14.00069137, 17.92339823, 14.18264723, 23.37758884, 24.39687881,\n",
       "       21.23667698, 27.26632651, 21.08947178, 13.86148543, 19.75465316,\n",
       "       22.86339478, 29.20582589, 26.28301978, 26.54626526, 21.08394466,\n",
       "       29.16716238, 21.96302346, 20.25331639, 30.29443156, 36.11734249,\n",
       "       31.8259192 ,  3.15734088, 20.80291938, 36.25986917, 17.30111211,\n",
       "       23.49381144, 30.00411361, 24.16272423, 13.75186762, 28.73340557,\n",
       "       17.92976699, 28.54932504, 25.44580583, 24.89231538, 20.7823042 ,\n",
       "       21.67987839, 21.79650287, 22.22184791, 36.11307481, 15.05991166,\n",
       "       10.73015009, 29.16976471, 15.62919664, 31.14697723, 27.62536927,\n",
       "       27.31369517, 33.82198594, 32.35801759, 27.33726534, 29.30801469,\n",
       "       22.14642993, 10.05849783, 17.34964503, 31.3837096 , 22.16794688,\n",
       "       25.11364599, 23.24654633, 28.48483605, 22.34538679, 22.773718  ,\n",
       "       24.67423006, 17.92479258, 18.59349723, 30.42023154, 27.03739187,\n",
       "       14.86249528, 33.42937522, 23.95545753, 25.60919719, 12.89574   ,\n",
       "       26.1293372 , 22.30032689, 12.71562944, 29.30522696, 25.65127913,\n",
       "       25.47974884, 17.09411952,  8.32027461, 28.32447364, 26.94068411,\n",
       "       23.43963397, 23.88983344, 21.40973045, 22.82322947,  3.26037068,\n",
       "       24.1957015 , 31.48491822, 17.00955967, 19.17423075, 23.61820031,\n",
       "       22.20906779, 25.94278535, 13.62515403, 30.31941842, 17.79912584,\n",
       "       24.02737221, 22.39060155, 26.75173701, 34.70329653, 16.58801807,\n",
       "       20.89864441, 16.23627927, 18.50674968, 26.03785052, 16.33765914,\n",
       "       21.06927849, 24.14145012,  7.89370893, 14.74664881, 15.68003393,\n",
       "       29.32761863, 23.75730961, 17.80724958, 23.2271202 , 18.84325945,\n",
       "       23.5260079 , 19.72632682, 16.07027653, 20.51431617, 20.85052809,\n",
       "        9.67063948, 16.63827808, 17.25647468, 18.31987792, 12.33463503,\n",
       "       26.78750935, 11.47503902, 36.23112773, 16.10498178, 23.8558152 ,\n",
       "       20.65951218, 29.79147586, 20.01332368, 28.02589299, 31.34296813,\n",
       "       27.26527592, 30.13296737, 24.72598282, 20.08417947, 34.89034032,\n",
       "       26.5883131 , 10.84248479, 34.06013872, 19.09964574, 22.59496854,\n",
       "       16.30973345, 24.72873071, 24.44091713, 24.74816961, 22.70889264,\n",
       "       17.34261338, 16.98396763, 16.50937219, 20.95952697, 23.36643824,\n",
       "       30.97781882, 23.64062386, 23.76991013, 21.95825415, 20.06780674,\n",
       "       31.77579593, 18.01023681, 28.04954739, 30.05463255, 16.98315257,\n",
       "       19.06934532, 25.98480777, 15.93415806, 19.83068053, 19.81887583,\n",
       "       18.91425447, 23.21297167, 19.37686075, 15.55432896, 20.36382477,\n",
       "       29.15750736, 27.0748307 , 19.98156609, 25.52552616, 21.20169469,\n",
       "       28.7938913 , 30.74490626, 21.79009795, 15.0779227 , 24.39096631,\n",
       "       26.9080537 , 22.30773587, 29.98537857, 20.36277478, 29.74248269,\n",
       "       23.11969076, 24.05110952, 22.4765143 , 19.42637508, 33.15658822,\n",
       "       22.61240779, 26.14183888, 21.70234338, 22.78086562, 27.89317052,\n",
       "       15.71136054, 16.98932436, 29.9256106 , 22.43675066, 23.33908241,\n",
       "       22.60969177, 13.30709313, 10.2993715 , 31.12357359, 21.42587373,\n",
       "       28.92995071, 21.11506779, 16.38072407, 16.08346888, 21.89750923,\n",
       "       29.03117685, 14.4422898 , 28.66254659, 36.8142529 , 20.53525471,\n",
       "       19.96366195, 27.61028693, 25.91480724, 19.79445821, 21.65140506,\n",
       "       12.1057387 , 23.90271867, 26.34866526, 19.190424  , 21.79347382,\n",
       "       20.83523493, 20.01483266, 23.8613989 , 20.6413666 , 17.32679995,\n",
       "       21.73510019, 18.81942649, 24.07941853,  9.75021091, 24.92811776,\n",
       "        4.90493937, 18.13776719, 28.33784902, 26.33451131, 19.41564151,\n",
       "       22.12802783, 25.0461083 , 17.3706548 , 29.95348723, 20.57226408,\n",
       "       35.30542081, 20.67154917, 17.45106119, 14.54385321, 23.75957189,\n",
       "       20.95398105, 27.74786489, 19.81398206, 23.20021469, 27.74198634,\n",
       "       32.23459377, 19.67744833, 27.70081951, 17.94323239, 18.37258364,\n",
       "       28.88515337, 13.04630549, 24.17119917, 19.89113838, 21.44944958,\n",
       "       34.34533506, 21.52456165, 13.04817909, 27.89843531, 19.14722059,\n",
       "       29.87675719, 21.72446727, 19.21033678, 21.17443991, 20.30035961,\n",
       "       16.4984659 , 20.93297767, 16.45819684, 15.10186447,  6.76645036,\n",
       "       15.93844616, 24.14980666, 16.07624866, 31.56741806, 24.92415684,\n",
       "       24.94824139, 19.32711275, 21.88990544, 35.04827014, 35.23762955,\n",
       "       22.67276631, 28.66624152, 22.40564926, 20.0364117 , 18.29339391,\n",
       "       18.13835359, 18.90812001, 26.95734142, 24.40685827, 27.893076  ,\n",
       "       35.76807192, 24.8912039 , 25.90185009, 19.03785324, 18.11276221,\n",
       "       32.84861873, 25.53194297, 19.77741646, 20.01449377, 22.48000755,\n",
       "       23.42970995, 32.31424465, 30.28676019, 32.18706033, 12.71380027,\n",
       "       18.49454234, 22.25355256, 22.04986276, 25.26836823])"
      ]
     },
     "execution_count": 22,
     "metadata": {},
     "output_type": "execute_result"
    }
   ],
   "source": [
    "model.yhat"
   ]
  },
  {
   "cell_type": "code",
   "execution_count": 23,
   "id": "472b5959",
   "metadata": {},
   "outputs": [
    {
     "name": "stdout",
     "output_type": "stream",
     "text": [
      "SSE:12204.013455931276\n",
      "MSE:32.7185347344002\n",
      "SSR:14143.929748629262\n",
      "MSR:2828.7859497258523\n",
      "R^2:0.5529856653949197\n"
     ]
    }
   ],
   "source": [
    "print(f\"SSE:{model.SSE()}\")\n",
    "print(f\"MSE:{model.MSE()}\")\n",
    "print(f\"SSR:{model.SSR()}\")\n",
    "print(f\"MSR:{model.MSR()}\")\n",
    "print(f\"R^2:{model.R_2()}\")"
   ]
  },
  {
   "cell_type": "markdown",
   "id": "713dc424",
   "metadata": {},
   "source": [
    "## Error Analysis"
   ]
  },
  {
   "cell_type": "markdown",
   "id": "7e6d21f7",
   "metadata": {},
   "source": [
    "The effectiveness of regression algorithms can be assessed in a variety of ways:\n",
    "\n",
    "The Mean Squared Error\n",
    "\n",
    "Mean Absolute Error\n",
    "\n",
    "$R^2$ "
   ]
  },
  {
   "cell_type": "markdown",
   "id": "2c6605fb",
   "metadata": {},
   "source": [
    "### The Mean Squared Error"
   ]
  },
  {
   "cell_type": "markdown",
   "id": "12da9ffc",
   "metadata": {},
   "source": [
    "The Mean Squared Error measures how close a regression line is to a set of data points. It is a risk function corresponding to the expected value of the squared error loss. Mean square error is calculated by taking the average, specifically the mean, of errors squared from data as it relates to a function."
   ]
  },
  {
   "cell_type": "markdown",
   "id": "09eb859d",
   "metadata": {},
   "source": [
    "### Mean Absolute Error"
   ]
  },
  {
   "cell_type": "markdown",
   "id": "7a64b972",
   "metadata": {},
   "source": [
    "Mean Absolute Error is a model evaluation metric used with regression models. The mean absolute error of a model with respect to a test set is the mean of the absolute values of the individual prediction errors on over all instances in the test set."
   ]
  },
  {
   "cell_type": "markdown",
   "id": "b6f96f14",
   "metadata": {},
   "source": [
    "### $R^2$ "
   ]
  },
  {
   "cell_type": "markdown",
   "id": "8829fdb8",
   "metadata": {},
   "source": [
    "R-Squared is the ratio of the sum of squares regression (SSR) and the sum of squares total (SST). Sum of Squares Regression (SSR) represents the total variation of all the predicted values found on the regression line or plane from the mean value of all the values of response variables. The sum of squares total (SST) represents the total variation of actual values from the mean value of all the values of response variables. R-squared value is used to measure the goodness of fit or best-fit line. "
   ]
  },
  {
   "cell_type": "markdown",
   "id": "ae02b757",
   "metadata": {},
   "source": [
    "## Conclusion"
   ]
  },
  {
   "cell_type": "markdown",
   "id": "0fa7498f",
   "metadata": {},
   "source": [
    "The regression model with bias is better than the regression model without bias by comparing their error."
   ]
  },
  {
   "cell_type": "code",
   "execution_count": null,
   "id": "c320ba31",
   "metadata": {},
   "outputs": [],
   "source": []
  }
 ],
 "metadata": {
  "kernelspec": {
   "display_name": "Python 3 (ipykernel)",
   "language": "python",
   "name": "python3"
  },
  "language_info": {
   "codemirror_mode": {
    "name": "ipython",
    "version": 3
   },
   "file_extension": ".py",
   "mimetype": "text/x-python",
   "name": "python",
   "nbconvert_exporter": "python",
   "pygments_lexer": "ipython3",
   "version": "3.9.13"
  }
 },
 "nbformat": 4,
 "nbformat_minor": 5
}
